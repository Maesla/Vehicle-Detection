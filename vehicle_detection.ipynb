{
 "cells": [
  {
   "cell_type": "markdown",
   "metadata": {
    "deletable": true,
    "editable": true
   },
   "source": [
    "## Vehicle Detection\n",
    "\n",
    "The goals / steps of this project are the following:\n",
    "\n",
    "* Perform a Histogram of Oriented Gradients (HOG) feature extraction on a labeled training set of images and train a classifier Linear SVM classifier\n",
    "* Optionally, you can also apply a color transform and append binned color features, as well as histograms of color, to your HOG feature vector.\n",
    "* Note: for those first two steps don't forget to normalize your features and randomize a selection for training and testing.\n",
    "* Implement a sliding-window technique and use your trained classifier to search for vehicles in images.\n",
    "* Run your pipeline on a video stream (start with the test_video.mp4 and later implement on full project_video.mp4) and create a heat map of recurring detections frame by frame to reject outliers and follow detected vehicles.\n",
    "* Estimate a bounding box for vehicles detected."
   ]
  },
  {
   "cell_type": "markdown",
   "metadata": {},
   "source": [
    "## Load Training Images"
   ]
  },
  {
   "cell_type": "code",
   "execution_count": 11,
   "metadata": {
    "collapsed": false
   },
   "outputs": [
    {
     "name": "stdout",
     "output_type": "stream",
     "text": [
      "./data/vehicles\n",
      "./data/non-vehicles\n",
      "8792\n",
      "8968\n"
     ]
    }
   ],
   "source": [
    "import glob\n",
    "import os\n",
    "import sys\n",
    "\n",
    "def get_img_path_in_folder(path_folder):\n",
    "    full_path = path_folder + '/**/*.png'\n",
    "    img_path_list = []\n",
    "\n",
    "    for filename in glob.iglob(full_path, recursive=True):\n",
    "        img_path_list.append(filename)\n",
    "\n",
    "    return img_path_list\n",
    "\n",
    "data_folder = './data'\n",
    "vehicles_folder = data_folder + '/vehicles'\n",
    "non_vehicles_folder = data_folder + '/non-vehicles'\n",
    "\n",
    "print(vehicles_folder)\n",
    "print(non_vehicles_folder)\n",
    "\n",
    "vehicle_img_path = get_img_path_in_folder(vehicles_folder)\n",
    "non_vehicle_img_path = get_img_path_in_folder(non_vehicles_folder)\n",
    "print(len(vehicle_img_path))\n",
    "print(len(non_vehicle_img_path))"
   ]
  },
  {
   "cell_type": "markdown",
   "metadata": {},
   "source": [
    "## Extract Features"
   ]
  },
  {
   "cell_type": "code",
   "execution_count": 86,
   "metadata": {
    "collapsed": false
   },
   "outputs": [],
   "source": [
    "from skimage.feature import hog\n",
    "import numpy as np\n",
    "import cv2\n",
    "\n",
    "class Feature_extractor():\n",
    "    def __init__(self, color_space='RGB', spatial_size=(32, 32),\n",
    "                        hist_bins=32, orient=9, \n",
    "                        pix_per_cell=8, cell_per_block=2, hog_channel=0,\n",
    "                        spatial_feat=True, hist_feat=True, hog_feat=True):\n",
    "        self.color_space = color_space\n",
    "        self.spatial_size = spatial_size\n",
    "        self.hist_bins = hist_bins\n",
    "        self.orient = orient\n",
    "        self.pix_per_cell = pix_per_cell\n",
    "        self.cell_per_block = cell_per_block\n",
    "        self.hog_channel = hog_channel\n",
    "        self.spatial_feat = spatial_feat\n",
    "        self.hist_feat = hist_feat\n",
    "        self.hog_feat = hog_feat\n",
    "        self.a = 10\n",
    "        pass\n",
    "    \n",
    "    def extract(self, img):\n",
    "        \n",
    "        color_space = self.color_space\n",
    "        spatial_size = self.spatial_size\n",
    "        hist_bins = self.hist_bins\n",
    "        orient = self.orient\n",
    "        pix_per_cell = self.pix_per_cell\n",
    "        cell_per_block = self.cell_per_block\n",
    "        hog_channel = self.hog_channel\n",
    "        spatial_feat = self.spatial_feat\n",
    "        hist_feat = self.hist_feat\n",
    "        hog_feat = self.hog_feat\n",
    "        \n",
    "        #1) Define an empty list to receive features\n",
    "        img_features = []\n",
    "        \n",
    "        #2) Apply color conversion if other than 'RGB'\n",
    "        feature_image = self.transform_color(img, color_space)\n",
    "        \n",
    "        #3) Compute spatial features if flag is set\n",
    "        if spatial_feat == True:\n",
    "            spatial_features = self.bin_spatial(feature_image, size=spatial_size)\n",
    "            #4) Append features to list\n",
    "            img_features.append(spatial_features)\n",
    "            \n",
    "        #5) Compute histogram features if flag is set\n",
    "        if hist_feat == True:\n",
    "            hist_features = self.color_hist(feature_image, nbins=hist_bins)\n",
    "            #6) Append features to list\n",
    "            img_features.append(hist_features)\n",
    "        \n",
    "        #7) Compute HOG features if flag is set\n",
    "        if hog_feat == True:\n",
    "            if hog_channel == 'ALL':\n",
    "                hog_features = []\n",
    "                for channel in range(feature_image.shape[2]):\n",
    "                    hog_features.extend(self.get_hog_features(feature_image[:,:,channel], \n",
    "                                        orient, pix_per_cell, cell_per_block, \n",
    "                                        vis=False, feature_vec=True))      \n",
    "            else:\n",
    "                hog_features = self.get_hog_features(feature_image[:,:,hog_channel], orient, \n",
    "                            pix_per_cell, cell_per_block, vis=False, feature_vec=True)\n",
    "            #8) Append features to list\n",
    "            img_features.append(hog_features)\n",
    "        \n",
    "        \n",
    "        #9) Return concatenated array of features\n",
    "        return np.concatenate(img_features)\n",
    "    \n",
    "    def transform_color(self, img, color_space='RGB'):\n",
    "        if color_space != 'RGB':\n",
    "            if color_space == 'HSV':\n",
    "                feature_image = cv2.cvtColor(img, cv2.COLOR_RGB2HSV)\n",
    "            elif color_space == 'LUV':\n",
    "                feature_image = cv2.cvtColor(img, cv2.COLOR_RGB2LUV)\n",
    "            elif color_space == 'HLS':\n",
    "                feature_image = cv2.cvtColor(img, cv2.COLOR_RGB2HLS)\n",
    "            elif color_space == 'YUV':\n",
    "                feature_image = cv2.cvtColor(img, cv2.COLOR_RGB2YUV)\n",
    "            elif color_space == 'YCrCb':\n",
    "                feature_image = cv2.cvtColor(img, cv2.COLOR_RGB2YCrCb)\n",
    "        else: \n",
    "            feature_image = np.copy(img)\n",
    "        return feature_image\n",
    "    \n",
    "    # Define a function to compute binned color features  \n",
    "    def bin_spatial(self, img, size=(32, 32)):\n",
    "        # Use cv2.resize().ravel() to create the feature vector\n",
    "        features = cv2.resize(img, size).ravel() \n",
    "        # Return the feature vector\n",
    "        return features\n",
    "    \n",
    "    # Define a function to compute color histogram features \n",
    "    # NEED TO CHANGE bins_range if reading .png files with mpimg!\n",
    "    def color_hist(self, img, nbins=32, bins_range=(0, 1)):\n",
    "        # Compute the histogram of the color channels separately\n",
    "        channel1_hist = np.histogram(img[:,:,0], bins=nbins, range=bins_range)\n",
    "        channel2_hist = np.histogram(img[:,:,1], bins=nbins, range=bins_range)\n",
    "        channel3_hist = np.histogram(img[:,:,2], bins=nbins, range=bins_range)\n",
    "        # Concatenate the histograms into a single feature vector\n",
    "        hist_features = np.concatenate((channel1_hist[0], channel2_hist[0], channel3_hist[0]))\n",
    "        # Return the individual histograms, bin_centers and feature vector\n",
    "        return hist_features\n",
    "    \n",
    "    def get_hog_features(self, img, orient, pix_per_cell, cell_per_block, \n",
    "                        vis=False, feature_vec=True):\n",
    "        # Call with two outputs if vis==True\n",
    "        if vis == True:\n",
    "            features, hog_image = hog(img, orientations=orient, \n",
    "                                      pixels_per_cell=(pix_per_cell, pix_per_cell),\n",
    "                                      cells_per_block=(cell_per_block, cell_per_block), \n",
    "                                      transform_sqrt=False, \n",
    "                                      visualise=vis, feature_vector=feature_vec)\n",
    "            return features, hog_image\n",
    "        # Otherwise call with one output\n",
    "        else:      \n",
    "            features = hog(img, orientations=orient, \n",
    "                           pixels_per_cell=(pix_per_cell, pix_per_cell),\n",
    "                           cells_per_block=(cell_per_block, cell_per_block), \n",
    "                           transform_sqrt=False, \n",
    "                           visualise=vis, feature_vector=feature_vec)\n",
    "            return features\n",
    "    \n",
    "    def aux(self):\n",
    "            print(self.a)"
   ]
  },
  {
   "cell_type": "code",
   "execution_count": 87,
   "metadata": {
    "collapsed": false
   },
   "outputs": [
    {
     "name": "stdout",
     "output_type": "stream",
     "text": [
      "9\n",
      "9\n"
     ]
    }
   ],
   "source": [
    "import numpy as np\n",
    "\n",
    "\n",
    "def images_load_subset(images_path, subset):\n",
    "    img_len = len(images_path)\n",
    "    subset = np.clip(subset, 0, 1)\n",
    "    new_len = img_len*subset\n",
    "    new_len = int(round(new_len))\n",
    "    return images_path[:new_len]\n",
    "\n",
    "new_vehicle_images_path = images_load_subset(vehicle_img_path, 0.001)\n",
    "new_non_vehicle_images_path = images_load_subset(non_vehicle_img_path, 0.001)\n",
    "\n",
    "print(len(new_vehicle_images_path))\n",
    "print(len(new_non_vehicle_images_path))\n",
    "\n"
   ]
  },
  {
   "cell_type": "code",
   "execution_count": 88,
   "metadata": {
    "collapsed": false
   },
   "outputs": [
    {
     "name": "stdout",
     "output_type": "stream",
     "text": [
      "6696\n",
      "[[  6.78116531e+01]\n",
      " [ -6.41084099e+00]\n",
      " [  2.51234150e+00]\n",
      " ..., \n",
      " [  2.57410578e-02]\n",
      " [  5.92119957e-03]\n",
      " [  2.62275014e-02]]\n",
      "16.12 Seconds to extract HOG features...\n"
     ]
    },
    {
     "data": {
      "image/png": "[encoded data removed]",
      "text/plain": [
       "<matplotlib.figure.Figure at 0xf4967efef0>"
      ]
     },
     "metadata": {},
     "output_type": "display_data"
    },
    {
     "data": {
      "image/png": "[encoded data removed]",
      "text/plain": [
       "<matplotlib.figure.Figure at 0xf4a4569ef0>"
      ]
     },
     "metadata": {},
     "output_type": "display_data"
    }
   ],
   "source": [
    "import matplotlib.image as mpimg\n",
    "import matplotlib.pyplot as plt\n",
    "import numpy as np\n",
    "import cv2\n",
    "import time\n",
    "from sklearn.preprocessing import StandardScaler\n",
    "\n",
    "%matplotlib inline\n",
    "\n",
    "test_image = mpimg.imread(vehicle_img_path[0])\n",
    "#print(test_image)\n",
    "\n",
    "colorspace = 'LUV' # Can be RGB, HSV, LUV, HLS, YUV, YCrCb\n",
    "orient = 6\n",
    "pix_per_cell = 8\n",
    "cell_per_block = 2\n",
    "hog_channel = \"ALL\" # Can be 0, 1, 2, or \"ALL\"\n",
    "\n",
    "\n",
    "extractor = Feature_extractor(color_space=colorspace, orient=orient, \n",
    "                        pix_per_cell=pix_per_cell, cell_per_block=cell_per_block, \n",
    "                        hog_channel=hog_channel)\n",
    "\n",
    "t=time.time()\n",
    "car_features = extractor.extract(test_image)\n",
    "\n",
    "a = len(car_features)\n",
    "print(a)\n",
    "#X = np.vstack((car_features)).astype(np.float64)\n",
    "#X_scaler = StandardScaler().fit(X)\n",
    "#r = X_scaler.transform(np.array(car_features).reshape(1, -1))\n",
    "# Apply the scaler to X\n",
    "#scaled_X = X_scaler.transform(X)\n",
    "#print(X)\n",
    "#plt.plot(r)\n",
    "\n",
    "t2 = time.time()\n",
    "print(round(t2-t, 2), 'Seconds to extract HOG features...')\n",
    "\n",
    "fig = plt.figure(figsize=(12,4))\n",
    "plt.subplot(131)\n",
    "plt.imshow(test_image)\n",
    "plt.title('Original Image')\n",
    "plt.subplot(132)\n",
    "plt.plot(car_features)\n",
    "plt.title('Raw Features')\n",
    "#plt.subplot(133)\n",
    "#plt.plot(r)\n",
    "#plt.title('Normalized Features')\n",
    "fig.tight_layout()"
   ]
  },
  {
   "cell_type": "markdown",
   "metadata": {
    "deletable": true,
    "editable": true
   },
   "source": [
    "## HOG"
   ]
  },
  {
   "cell_type": "code",
   "execution_count": null,
   "metadata": {
    "collapsed": true,
    "deletable": true,
    "editable": true
   },
   "outputs": [],
   "source": []
  }
 ],
 "metadata": {
  "anaconda-cloud": {},
  "celltoolbar": "Edit Metadata",
  "kernelspec": {
   "display_name": "Python 3",
   "language": "python",
   "name": "python3"
  },
  "language_info": {
   "codemirror_mode": {
    "name": "ipython",
    "version": 3
   },
   "file_extension": ".py",
   "mimetype": "text/x-python",
   "name": "python",
   "nbconvert_exporter": "python",
   "pygments_lexer": "ipython3",
   "version": "3.5.2"
  },
  "widgets": {
   "state": {},
   "version": "1.1.2"
  }
 },
 "nbformat": 4,
 "nbformat_minor": 1
}
